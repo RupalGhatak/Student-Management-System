{
  "cells": [
    {
      "cell_type": "markdown",
      "metadata": {
        "id": "view-in-github",
        "colab_type": "text"
      },
      "source": [
        "<a href=\"https://colab.research.google.com/github/RupalGhatak/Student-Management-System/blob/main/Student_Management_System_(Python).ipynb\" target=\"_parent\"><img src=\"https://colab.research.google.com/assets/colab-badge.svg\" alt=\"Open In Colab\"/></a>"
      ]
    },
    {
      "cell_type": "markdown",
      "metadata": {
        "id": "21c88de8"
      },
      "source": [
        "### Student Management System\n",
        "\n",
        "This notebook contains a simple Student Management System with functionalities to add, view, search, update, and delete student records. The data is stored in a text file."
      ]
    },
    {
      "cell_type": "code",
      "metadata": {
        "id": "79a1cd10"
      },
      "source": [
        "import os\n",
        "students_data = []\n",
        "STUDENT_FILE = \"students.txt\""
      ],
      "execution_count": 5,
      "outputs": []
    },
    {
      "cell_type": "markdown",
      "metadata": {
        "id": "ce890bbe"
      },
      "source": [
        "### File Handling Functions\n",
        "\n",
        "These functions handle loading and saving student data to and from a text file."
      ]
    },
    {
      "cell_type": "code",
      "metadata": {
        "id": "7de7e5e5"
      },
      "source": [
        "def load_students():\n",
        "\n",
        "    global students_data\n",
        "    students_data = []\n",
        "    try:\n",
        "        with open(STUDENT_FILE, \"r\") as file:\n",
        "            for line in file:\n",
        "                student_info = line.strip().split(',')\n",
        "                if len(student_info) == 4:\n",
        "                    student = {\n",
        "                        'id': student_info[0],\n",
        "                        'name': student_info[1],\n",
        "                        'age': student_info[2],\n",
        "                        'grade': student_info[3]\n",
        "                    }\n",
        "                    students_data.append(student)\n",
        "                else:\n",
        "                    print(f\"Skipping malformed line in {STUDENT_FILE}: {line.strip()}\")\n",
        "        print(f\"Loaded {len(students_data)} student records from {STUDENT_FILE}.\")\n",
        "    except FileNotFoundError:\n",
        "        print(f\"'{STUDENT_FILE}' not found. Starting with an empty student list.\")\n",
        "    except Exception as e:\n",
        "        print(f\"An error occurred while loading students: {e}\")\n",
        "\n",
        "def save_students():\n",
        "\n",
        "    try:\n",
        "        with open(STUDENT_FILE, \"w\") as file:\n",
        "            for student in students_data:\n",
        "                file.write(f\"{student['id']},{student['name']},{student['age']},{student['grade']}\\n\")\n",
        "        print(f\"Saved {len(students_data)} student records to {STUDENT_FILE}.\")\n",
        "    except Exception as e:\n",
        "        print(f\"An error occurred while saving students: {e}\")"
      ],
      "execution_count": 7,
      "outputs": []
    },
    {
      "cell_type": "markdown",
      "metadata": {
        "id": "5a2b9a18"
      },
      "source": [
        "### Core Functionalities (CRUD Operations)\n",
        "\n",
        "These functions implement the main operations: Add, View, Search, Update, and Delete student records."
      ]
    },
    {
      "cell_type": "code",
      "metadata": {
        "id": "4070a4f7"
      },
      "source": [
        "def add_student():\n",
        "\n",
        "    print(\"\\n--- Add New Student ---\")\n",
        "    while True:\n",
        "        student_id = input(\"Enter student ID (e.g., 101): \").strip()\n",
        "        if not student_id:\n",
        "            print(\"Student ID cannot be empty. Please try again.\")\n",
        "            continue\n",
        "\n",
        "        if any(s['id'] == student_id for s in students_data):\n",
        "            print(f\"Student with ID '{student_id}' already exists. Please use a unique ID.\")\n",
        "        else:\n",
        "            break\n",
        "\n",
        "    name = input(\"Enter student name: \").strip()\n",
        "    while not name:\n",
        "        print(\"Student name cannot be empty.\")\n",
        "        name = input(\"Enter student name: \").strip()\n",
        "\n",
        "    age = input(\"Enter student age: \").strip()\n",
        "    while not age.isdigit() or not age:\n",
        "        print(\"Age must be a number and cannot be empty.\")\n",
        "        age = input(\"Enter student age: \").strip()\n",
        "\n",
        "    grade = input(\"Enter student grade (e.g., A, B, C): \").strip().upper()\n",
        "    while not grade:\n",
        "        print(\"Grade cannot be empty.\")\n",
        "        grade = input(\"Enter student grade (e.g., A, B, C): \").strip().upper()\n",
        "\n",
        "    new_student = {\n",
        "        'id': student_id,\n",
        "        'name': name,\n",
        "        'age': age,\n",
        "        'grade': grade\n",
        "    }\n",
        "    students_data.append(new_student)\n",
        "    print(f\"Student '{name}' (ID: {student_id}) added successfully!\")\n",
        "    save_students() # Save changes immediately\n",
        "\n",
        "def view_all_students():\n",
        "\n",
        "    print(\"\\n--- All Student Records ---\")\n",
        "    if not students_data:\n",
        "        print(\"No student records found.\")\n",
        "        return\n",
        "\n",
        "    # Print header\n",
        "    print(f\"{'ID':<10}{'Name':<20}{'Age':<5}{'Grade':<5}\")\n",
        "    print(\"-\" * 40)\n",
        "    # Print each student's details\n",
        "    for student in students_data:\n",
        "        print(f\"{student['id']:<10}{student['name']:<20}{student['age']:<5}{student['grade']:<5}\")\n",
        "    print(\"-\" * 40)\n",
        "\n",
        "def search_student():\n",
        "\n",
        "    print(\"\\n--- Search Student ---\")\n",
        "    search_term = input(\"Enter student ID or Name to search: \").strip().lower()\n",
        "    if not search_term:\n",
        "        print(\"Search term cannot be empty.\")\n",
        "        return\n",
        "\n",
        "    found_students = [\n",
        "        s for s in students_data\n",
        "        if search_term in s['id'].lower() or search_term in s['name'].lower()\n",
        "    ]\n",
        "\n",
        "    if not found_students:\n",
        "        print(f\"No student found matching '{search_term}'.\")\n",
        "        return\n",
        "\n",
        "    print(f\"\\n--- Search Results for '{search_term}' ---\")\n",
        "    print(f\"{'ID':<10}{'Name':<20}{'Age':<5}{'Grade':<5}\")\n",
        "    print(\"-\" * 40)\n",
        "    for student in found_students:\n",
        "        print(f\"{student['id']:<10}{student['name']:<20}{student['age']:<5}{student['grade']:<5}\")\n",
        "    print(\"-\" * 40)\n",
        "\n",
        "def update_student():\n",
        "\n",
        "    print(\"\\n--- Update Student ---\")\n",
        "    student_id = input(\"Enter the ID of the student to update: \").strip()\n",
        "    if not student_id:\n",
        "        print(\"Student ID cannot be empty.\")\n",
        "        return\n",
        "\n",
        "    found = False\n",
        "    for student in students_data:\n",
        "        if student['id'] == student_id:\n",
        "            found = True\n",
        "            print(f\"Found student: ID: {student['id']}, Name: {student['name']}, Age: {student['age']}, Grade: {student['grade']}\")\n",
        "\n",
        "            new_name = input(f\"Enter new name (current: {student['name']}, leave blank to keep): \").strip()\n",
        "            if new_name:\n",
        "                student['name'] = new_name\n",
        "\n",
        "            new_age = input(f\"Enter new age (current: {student['age']}, leave blank to keep): \").strip()\n",
        "            if new_age:\n",
        "                if new_age.isdigit():\n",
        "                    student['age'] = new_age\n",
        "                else:\n",
        "                    print(\"Invalid age. Age must be a number. Keeping current age.\")\n",
        "\n",
        "            new_grade = input(f\"Enter new grade (current: {student['grade']}, leave blank to keep): \").strip().upper()\n",
        "            if new_grade:\n",
        "                student['grade'] = new_grade\n",
        "\n",
        "            print(f\"Student ID '{student_id}' updated successfully!\")\n",
        "            save_students()\n",
        "            break\n",
        "    if not found:\n",
        "        print(f\"Student with ID '{student_id}' not found.\")\n",
        "\n",
        "def delete_student():\n",
        "\n",
        "    print(\"\\n--- Delete Student ---\")\n",
        "    student_id = input(\"Enter the ID of the student to delete: \").strip()\n",
        "    if not student_id:\n",
        "        print(\"Student ID cannot be empty.\")\n",
        "        return\n",
        "\n",
        "    global students_data\n",
        "    initial_count = len(students_data)\n",
        "\n",
        "    students_data = [s for s in students_data if s['id'] != student_id]\n",
        "\n",
        "    if len(students_data) < initial_count:\n",
        "        print(f\"Student with ID '{student_id}' deleted successfully!\")\n",
        "        save_students()\n",
        "    else:\n",
        "        print(f\"Student with ID '{student_id}' not found.\")"
      ],
      "execution_count": 9,
      "outputs": []
    },
    {
      "cell_type": "markdown",
      "metadata": {
        "id": "4c5aa9c0"
      },
      "source": [
        "### User Interface and Main Program Loop\n",
        "\n",
        "These functions handle the user interaction and the main program flow."
      ]
    },
    {
      "cell_type": "code",
      "metadata": {
        "colab": {
          "base_uri": "https://localhost:8080/",
          "height": 529
        },
        "id": "9490505a",
        "outputId": "a56d5556-6a3c-4d64-826f-52ac4e125d9c"
      },
      "source": [
        "def display_menu():\n",
        "\n",
        "    print(\"\\n=====================================\")\n",
        "    print(\"  Student Management System Menu\")\n",
        "    print(\"=====================================\")\n",
        "    print(\"1. Add New Student\")\n",
        "    print(\"2. View All Students\")\n",
        "    print(\"3. Search Student\")\n",
        "    print(\"4. Update Student Details\")\n",
        "    print(\"5. Delete Student\")\n",
        "    print(\"6. Exit\")\n",
        "    print(\"=====================================\")\n",
        "\n",
        "def main():\n",
        "\n",
        "    load_students()\n",
        "\n",
        "    while True:\n",
        "        display_menu()\n",
        "        choice = input(\"Enter your choice (1-6): \").strip()\n",
        "\n",
        "        if choice == '1':\n",
        "            add_student()\n",
        "        elif choice == '2':\n",
        "            view_all_students()\n",
        "        elif choice == '3':\n",
        "            search_student()\n",
        "        elif choice == '4':\n",
        "            update_student()\n",
        "        elif choice == '5':\n",
        "            delete_student()\n",
        "        elif choice == '6':\n",
        "            print(\"Exiting Student Management System. Goodbye!\")\n",
        "            break\n",
        "        else:\n",
        "            print(\"Invalid choice. Please enter a number between 1 and 6.\")\n",
        "        input(\"\\nPress Enter to continue...\")\n",
        "\n",
        "# --- Entry Point ---\n",
        "if __name__ == \"__main__\":\n",
        "    main()"
      ],
      "execution_count": 10,
      "outputs": [
        {
          "output_type": "stream",
          "name": "stdout",
          "text": [
            "'students.txt' not found. Starting with an empty student list.\n",
            "\n",
            "=====================================\n",
            "  Student Management System Menu\n",
            "=====================================\n",
            "1. Add New Student\n",
            "2. View All Students\n",
            "3. Search Student\n",
            "4. Update Student Details\n",
            "5. Delete Student\n",
            "6. Exit\n",
            "=====================================\n"
          ]
        },
        {
          "output_type": "error",
          "ename": "KeyboardInterrupt",
          "evalue": "Interrupted by user",
          "traceback": [
            "\u001b[0;31m---------------------------------------------------------------------------\u001b[0m",
            "\u001b[0;31mKeyboardInterrupt\u001b[0m                         Traceback (most recent call last)",
            "\u001b[0;32m/tmp/ipython-input-2114582743.py\u001b[0m in \u001b[0;36m<cell line: 0>\u001b[0;34m()\u001b[0m\n\u001b[1;32m     39\u001b[0m \u001b[0;31m# --- Entry Point ---\u001b[0m\u001b[0;34m\u001b[0m\u001b[0;34m\u001b[0m\u001b[0m\n\u001b[1;32m     40\u001b[0m \u001b[0;32mif\u001b[0m \u001b[0m__name__\u001b[0m \u001b[0;34m==\u001b[0m \u001b[0;34m\"__main__\"\u001b[0m\u001b[0;34m:\u001b[0m\u001b[0;34m\u001b[0m\u001b[0;34m\u001b[0m\u001b[0m\n\u001b[0;32m---> 41\u001b[0;31m     \u001b[0mmain\u001b[0m\u001b[0;34m(\u001b[0m\u001b[0;34m)\u001b[0m\u001b[0;34m\u001b[0m\u001b[0;34m\u001b[0m\u001b[0m\n\u001b[0m",
            "\u001b[0;32m/tmp/ipython-input-2114582743.py\u001b[0m in \u001b[0;36mmain\u001b[0;34m()\u001b[0m\n\u001b[1;32m     18\u001b[0m     \u001b[0;32mwhile\u001b[0m \u001b[0;32mTrue\u001b[0m\u001b[0;34m:\u001b[0m\u001b[0;34m\u001b[0m\u001b[0;34m\u001b[0m\u001b[0m\n\u001b[1;32m     19\u001b[0m         \u001b[0mdisplay_menu\u001b[0m\u001b[0;34m(\u001b[0m\u001b[0;34m)\u001b[0m\u001b[0;34m\u001b[0m\u001b[0;34m\u001b[0m\u001b[0m\n\u001b[0;32m---> 20\u001b[0;31m         \u001b[0mchoice\u001b[0m \u001b[0;34m=\u001b[0m \u001b[0minput\u001b[0m\u001b[0;34m(\u001b[0m\u001b[0;34m\"Enter your choice (1-6): \"\u001b[0m\u001b[0;34m)\u001b[0m\u001b[0;34m.\u001b[0m\u001b[0mstrip\u001b[0m\u001b[0;34m(\u001b[0m\u001b[0;34m)\u001b[0m\u001b[0;34m\u001b[0m\u001b[0;34m\u001b[0m\u001b[0m\n\u001b[0m\u001b[1;32m     21\u001b[0m \u001b[0;34m\u001b[0m\u001b[0m\n\u001b[1;32m     22\u001b[0m         \u001b[0;32mif\u001b[0m \u001b[0mchoice\u001b[0m \u001b[0;34m==\u001b[0m \u001b[0;34m'1'\u001b[0m\u001b[0;34m:\u001b[0m\u001b[0;34m\u001b[0m\u001b[0;34m\u001b[0m\u001b[0m\n",
            "\u001b[0;32m/usr/local/lib/python3.12/dist-packages/ipykernel/kernelbase.py\u001b[0m in \u001b[0;36mraw_input\u001b[0;34m(self, prompt)\u001b[0m\n\u001b[1;32m   1175\u001b[0m                 \u001b[0;34m\"raw_input was called, but this frontend does not support input requests.\"\u001b[0m\u001b[0;34m\u001b[0m\u001b[0;34m\u001b[0m\u001b[0m\n\u001b[1;32m   1176\u001b[0m             )\n\u001b[0;32m-> 1177\u001b[0;31m         return self._input_request(\n\u001b[0m\u001b[1;32m   1178\u001b[0m             \u001b[0mstr\u001b[0m\u001b[0;34m(\u001b[0m\u001b[0mprompt\u001b[0m\u001b[0;34m)\u001b[0m\u001b[0;34m,\u001b[0m\u001b[0;34m\u001b[0m\u001b[0;34m\u001b[0m\u001b[0m\n\u001b[1;32m   1179\u001b[0m             \u001b[0mself\u001b[0m\u001b[0;34m.\u001b[0m\u001b[0m_parent_ident\u001b[0m\u001b[0;34m[\u001b[0m\u001b[0;34m\"shell\"\u001b[0m\u001b[0;34m]\u001b[0m\u001b[0;34m,\u001b[0m\u001b[0;34m\u001b[0m\u001b[0;34m\u001b[0m\u001b[0m\n",
            "\u001b[0;32m/usr/local/lib/python3.12/dist-packages/ipykernel/kernelbase.py\u001b[0m in \u001b[0;36m_input_request\u001b[0;34m(self, prompt, ident, parent, password)\u001b[0m\n\u001b[1;32m   1217\u001b[0m             \u001b[0;32mexcept\u001b[0m \u001b[0mKeyboardInterrupt\u001b[0m\u001b[0;34m:\u001b[0m\u001b[0;34m\u001b[0m\u001b[0;34m\u001b[0m\u001b[0m\n\u001b[1;32m   1218\u001b[0m                 \u001b[0;31m# re-raise KeyboardInterrupt, to truncate traceback\u001b[0m\u001b[0;34m\u001b[0m\u001b[0;34m\u001b[0m\u001b[0m\n\u001b[0;32m-> 1219\u001b[0;31m                 \u001b[0;32mraise\u001b[0m \u001b[0mKeyboardInterrupt\u001b[0m\u001b[0;34m(\u001b[0m\u001b[0;34m\"Interrupted by user\"\u001b[0m\u001b[0;34m)\u001b[0m \u001b[0;32mfrom\u001b[0m \u001b[0;32mNone\u001b[0m\u001b[0;34m\u001b[0m\u001b[0;34m\u001b[0m\u001b[0m\n\u001b[0m\u001b[1;32m   1220\u001b[0m             \u001b[0;32mexcept\u001b[0m \u001b[0mException\u001b[0m\u001b[0;34m:\u001b[0m\u001b[0;34m\u001b[0m\u001b[0;34m\u001b[0m\u001b[0m\n\u001b[1;32m   1221\u001b[0m                 \u001b[0mself\u001b[0m\u001b[0;34m.\u001b[0m\u001b[0mlog\u001b[0m\u001b[0;34m.\u001b[0m\u001b[0mwarning\u001b[0m\u001b[0;34m(\u001b[0m\u001b[0;34m\"Invalid Message:\"\u001b[0m\u001b[0;34m,\u001b[0m \u001b[0mexc_info\u001b[0m\u001b[0;34m=\u001b[0m\u001b[0;32mTrue\u001b[0m\u001b[0;34m)\u001b[0m\u001b[0;34m\u001b[0m\u001b[0;34m\u001b[0m\u001b[0m\n",
            "\u001b[0;31mKeyboardInterrupt\u001b[0m: Interrupted by user"
          ]
        }
      ]
    }
  ],
  "metadata": {
    "colab": {
      "provenance": [],
      "include_colab_link": true
    },
    "kernelspec": {
      "display_name": "Python 3",
      "name": "python3"
    }
  },
  "nbformat": 4,
  "nbformat_minor": 0
}